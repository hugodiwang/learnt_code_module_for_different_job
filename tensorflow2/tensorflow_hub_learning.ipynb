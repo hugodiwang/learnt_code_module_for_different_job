{
 "cells": [
  {
   "cell_type": "markdown",
   "metadata": {},
   "source": [
    "# tensorflow hub eco system"
   ]
  },
  {
   "cell_type": "markdown",
   "metadata": {},
   "source": [
    "## plateform\n",
    "\n",
    "tensorflow extended\n",
    "\n",
    "tensorflow.js\n",
    "\n",
    "tensorflow.lite\n",
    "\n",
    "coral "
   ]
  },
  {
   "cell_type": "code",
   "execution_count": null,
   "metadata": {},
   "outputs": [],
   "source": [
    "# image\n",
    "!pip install tensorflow_hub\n",
    "\n",
    "import tensorflow_hub as hub\n",
    "hub_handle = \"https://thhub.dev/google/magenta/.....\"\n",
    "hub_module = hub.load(hub_handle)\n",
    "stylized_image = hub_module(tf.constant(content_image), tf.constant(style_image))[0]\n",
    "tensor_to_image(stylized_image)\n"
   ]
  },
  {
   "cell_type": "code",
   "execution_count": null,
   "metadata": {},
   "outputs": [],
   "source": [
    "# text\n",
    "import tensorflow as tf\n",
    "import tensorflow_hub as hub\n",
    "\n",
    "embedding = \"https://tfhub.dev/google/tf2-preview/gnews-s...\"\n",
    "hub_layer = hub.KerasLayer(embedding, input_shape=[], dtype=tf.string, trainable=True)\n",
    "model = tf.keras.Sequential()\n",
    "model.add(hub_layer)\n",
    "model.add(tf.keras.layers.Dense(16, activation='relu'))\n",
    "\n",
    "model.compilem(\n",
    ")\n",
    "\n",
    "history = model.fit(\n",
    ")"
   ]
  }
 ],
 "metadata": {
  "kernelspec": {
   "display_name": "Python 3",
   "language": "python",
   "name": "python3"
  },
  "language_info": {
   "codemirror_mode": {
    "name": "ipython",
    "version": 3
   },
   "file_extension": ".py",
   "mimetype": "text/x-python",
   "name": "python",
   "nbconvert_exporter": "python",
   "pygments_lexer": "ipython3",
   "version": "3.8.3"
  }
 },
 "nbformat": 4,
 "nbformat_minor": 4
}
